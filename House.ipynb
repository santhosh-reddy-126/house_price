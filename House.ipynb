{
 "cells": [
  {
   "cell_type": "code",
   "execution_count": 4,
   "id": "481d7d31-4383-454d-9faf-a909770975bd",
   "metadata": {},
   "outputs": [
    {
     "name": "stdout",
     "output_type": "stream",
     "text": [
      "Requirement already satisfied: scikit-learn==1.5.0 in c:\\users\\santh\\anaconda3\\lib\\site-packages (1.5.0)\n",
      "Requirement already satisfied: numpy>=1.19.5 in c:\\users\\santh\\anaconda3\\lib\\site-packages (from scikit-learn==1.5.0) (1.26.4)\n",
      "Requirement already satisfied: scipy>=1.6.0 in c:\\users\\santh\\anaconda3\\lib\\site-packages (from scikit-learn==1.5.0) (1.11.4)\n",
      "Requirement already satisfied: joblib>=1.2.0 in c:\\users\\santh\\anaconda3\\lib\\site-packages (from scikit-learn==1.5.0) (1.2.0)\n",
      "Requirement already satisfied: threadpoolctl>=3.1.0 in c:\\users\\santh\\anaconda3\\lib\\site-packages (from scikit-learn==1.5.0) (3.5.0)\n"
     ]
    }
   ],
   "source": [
    "import numpy as np\n",
    "import pandas as pd\n",
    "import matplotlib.pyplot as plt"
   ]
  },
  {
   "cell_type": "code",
   "execution_count": 5,
   "id": "96b9e96d-1b37-4d5f-8264-7f32bf90cb47",
   "metadata": {},
   "outputs": [
    {
     "name": "stdout",
     "output_type": "stream",
     "text": [
      "1.5.0\n"
     ]
    }
   ],
   "source": [
    "import sklearn\n",
    "print(sklearn.__version__)"
   ]
  },
  {
   "cell_type": "code",
   "execution_count": 6,
   "id": "cfb01aaf-a392-4c59-aaa1-4f445a066c25",
   "metadata": {},
   "outputs": [],
   "source": [
    "data = pd.read_csv(\"kc_house_data.csv\")"
   ]
  },
  {
   "cell_type": "markdown",
   "id": "0b023469-0c3a-4767-9248-9c0373e345c3",
   "metadata": {},
   "source": [
    "# Data Preprocessing"
   ]
  },
  {
   "cell_type": "code",
   "execution_count": 8,
   "id": "4fa7b098-2de4-4837-91cb-ecf22baec1ab",
   "metadata": {},
   "outputs": [],
   "source": [
    "data=data.drop([\"id\",\"date\",\"yr_renovated\",\"zipcode\"],axis=1)\n",
    "data[\"sqft_living15\"]=data[\"sqft_living\"]-data[\"sqft_living15\"]\n",
    "data[\"sqft_lot15\"]=data[\"sqft_lot\"]-data[\"sqft_lot15\"]"
   ]
  },
  {
   "cell_type": "code",
   "execution_count": 47,
   "id": "0399f1da-d77e-46c8-af06-055107d6056a",
   "metadata": {},
   "outputs": [
    {
     "data": {
      "text/plain": [
       "long\n",
       "-122.290    116\n",
       "-122.300    111\n",
       "-122.362    104\n",
       "-122.291    100\n",
       "-122.363     99\n",
       "           ... \n",
       "-121.691      1\n",
       "-122.514      1\n",
       "-121.646      1\n",
       "-122.515      1\n",
       "-121.403      1\n",
       "Name: count, Length: 752, dtype: int64"
      ]
     },
     "execution_count": 47,
     "metadata": {},
     "output_type": "execute_result"
    }
   ],
   "source": [
    "data['long'].value_counts()"
   ]
  },
  {
   "cell_type": "code",
   "execution_count": 10,
   "id": "d114ceb3-4898-4faf-a103-5beaa744e9e6",
   "metadata": {},
   "outputs": [],
   "source": [
    "y=data.iloc[:,0].values\n",
    "x=data.iloc[:,1:].values"
   ]
  },
  {
   "cell_type": "markdown",
   "id": "84b7c5e1-4da4-4c68-b516-fbc1e89ec123",
   "metadata": {},
   "source": [
    "#### data.corr()"
   ]
  },
  {
   "cell_type": "code",
   "execution_count": 12,
   "id": "bc1d1d88-fa54-427c-b138-48e574913480",
   "metadata": {},
   "outputs": [],
   "source": [
    "from scipy.stats import pearsonr\n",
    "correlations = []\n",
    "p_values = []\n",
    "# Calculate Pearson correlation and p-value for each feature\n",
    "for feature in x.T:\n",
    "    corr, p_value = pearsonr(feature, y)\n",
    "    correlations.append(corr)\n",
    "    p_values.append(p_value)\n"
   ]
  },
  {
   "cell_type": "code",
   "execution_count": 13,
   "id": "adc06971-f388-45b2-8fd8-2ee6da5c9d5a",
   "metadata": {},
   "outputs": [
    {
     "data": {
      "text/plain": [
       "[0.30834959814562846,\n",
       " 0.5251375054139688,\n",
       " 0.7020350546118027,\n",
       " 0.08966086058710017,\n",
       " 0.25679388755070814,\n",
       " 0.2663694340305992,\n",
       " 0.39729348829453925,\n",
       " 0.03636178912900033,\n",
       " 0.6674342560201706,\n",
       " 0.605567298356079,\n",
       " 0.32381602071198745,\n",
       " 0.054011531494792965,\n",
       " 0.3070034799952186,\n",
       " 0.021626241039306802,\n",
       " 0.4053916635356436,\n",
       " 0.050590661476336764]"
      ]
     },
     "execution_count": 13,
     "metadata": {},
     "output_type": "execute_result"
    }
   ],
   "source": [
    "correlations"
   ]
  },
  {
   "cell_type": "code",
   "execution_count": 14,
   "id": "d7e63dbd-cdfb-4585-8d5b-5697c718b031",
   "metadata": {},
   "outputs": [
    {
     "data": {
      "text/plain": [
       "[0.0,\n",
       " 0.0,\n",
       " 0.0,\n",
       " 7.972504510431418e-40,\n",
       " 1.6e-322,\n",
       " 0.0,\n",
       " 0.0,\n",
       " 8.9356540624392e-08,\n",
       " 0.0,\n",
       " 0.0,\n",
       " 0.0,\n",
       " 1.929872809402505e-15,\n",
       " 0.0,\n",
       " 0.0014750922063359916,\n",
       " 0.0,\n",
       " 9.928445587470263e-14]"
      ]
     },
     "execution_count": 14,
     "metadata": {},
     "output_type": "execute_result"
    }
   ],
   "source": [
    "p_values"
   ]
  },
  {
   "cell_type": "markdown",
   "id": "f734cc7e-04d3-4c4c-a83d-1c5a58304478",
   "metadata": {},
   "source": [
    "## Dataset Split"
   ]
  },
  {
   "cell_type": "code",
   "execution_count": 16,
   "id": "5a692808-e57f-4b33-b3c2-6e6e2cff41b9",
   "metadata": {},
   "outputs": [],
   "source": [
    "from sklearn.model_selection import train_test_split\n",
    "x_train,x_test,y_train,y_test = train_test_split(x,y,test_size=0.2,random_state=42)"
   ]
  },
  {
   "cell_type": "markdown",
   "id": "f1432594-6fda-4a01-b5ec-fe34f7215b44",
   "metadata": {},
   "source": [
    "# Training"
   ]
  },
  {
   "cell_type": "markdown",
   "id": "07e5153c-cf90-4bd4-8f94-a0861b546f36",
   "metadata": {},
   "source": [
    "## Random Forest"
   ]
  },
  {
   "cell_type": "code",
   "execution_count": 19,
   "id": "3d713929-b387-4a6d-8096-fb1a915d229c",
   "metadata": {},
   "outputs": [],
   "source": [
    "# from sklearn.ensemble import RandomForestRegressor\n",
    "# from sklearn.metrics import r2_score,accuracy_score\n",
    "# from sklearn.model_selection import cross_val_score\n",
    "# model5 = RandomForestRegressor(n_estimators=10)\n",
    "# model5.fit(x_train,y_train)\n",
    "# accuracies = cross_val_score(estimator = model5,X = x_train, y = y_train, cv = 10)\n",
    "# print(\"Accuracy: {:.2f} %\".format(accuracies.mean()*100))\n",
    "# print(\"Standard Deviation: {:.2f} %\".format(accuracies.std()*100))\n",
    "# print(\"Accuracy on test set: \"+str(round(model5.score(x_test,y_test)*100,3))+\"%\")"
   ]
  },
  {
   "cell_type": "code",
   "execution_count": 25,
   "id": "505de9f2-7853-492c-a336-216a015fc9a3",
   "metadata": {},
   "outputs": [
    {
     "name": "stdout",
     "output_type": "stream",
     "text": [
      "Accuracy: 88.02 %\n",
      "Standard Deviation: 1.56 %\n",
      "Accuracy on test set: 86.698%\n"
     ]
    }
   ],
   "source": [
    "\n",
    "from xgboost import XGBRegressor\n",
    "from sklearn.metrics import r2_score,accuracy_score\n",
    "from sklearn.model_selection import cross_val_score\n",
    "model6 = XGBRegressor()\n",
    "model6.fit(X=x_train,y=y_train)\n",
    "accuracies = cross_val_score(estimator = model6,X = x_train, y = y_train, cv = 10)\n",
    "print(\"Accuracy: {:.2f} %\".format(accuracies.mean()*100))\n",
    "print(\"Standard Deviation: {:.2f} %\".format(accuracies.std()*100))\n",
    "print(\"Accuracy on test set: \"+str(round(model6.score(x_test,y_test)*100,3))+\"%\")"
   ]
  },
  {
   "cell_type": "code",
   "execution_count": null,
   "id": "8412c6d2-4f45-4d3f-9862-e1591f810e76",
   "metadata": {},
   "outputs": [],
   "source": []
  },
  {
   "cell_type": "code",
   "execution_count": 29,
   "id": "54a9284c-360f-448e-9dd8-b3d8bcb28df0",
   "metadata": {},
   "outputs": [
    {
     "data": {
      "text/plain": [
       "['regression_model_updated.pkl']"
      ]
     },
     "execution_count": 29,
     "metadata": {},
     "output_type": "execute_result"
    }
   ],
   "source": [
    "import joblib\n",
    "joblib.dump(model6, 'regression_model_updated.pkl')"
   ]
  },
  {
   "cell_type": "code",
   "execution_count": 31,
   "id": "0adc548c-899b-4545-9ca3-fd1c5bd00627",
   "metadata": {},
   "outputs": [
    {
     "name": "stdout",
     "output_type": "stream",
     "text": [
      "1.5.0\n"
     ]
    }
   ],
   "source": [
    "import sklearn\n",
    "print(sklearn.__version__)"
   ]
  },
  {
   "cell_type": "code",
   "execution_count": 33,
   "id": "09bd7867-3298-461f-8f06-8bca8baa37a4",
   "metadata": {},
   "outputs": [
    {
     "data": {
      "text/plain": [
       "array([ 4.00000e+00,  2.25000e+00,  2.07000e+03,  8.89300e+03,\n",
       "        2.00000e+00,  0.00000e+00,  0.00000e+00,  4.00000e+00,\n",
       "        8.00000e+00,  2.07000e+03,  0.00000e+00,  1.98600e+03,\n",
       "        4.74388e+01, -1.22162e+02, -3.20000e+02,  1.19300e+03])"
      ]
     },
     "execution_count": 33,
     "metadata": {},
     "output_type": "execute_result"
    }
   ],
   "source": [
    "x_test[0]"
   ]
  },
  {
   "cell_type": "code",
   "execution_count": 49,
   "id": "c4e6556b-68a7-4ea0-9323-16ce9956fe95",
   "metadata": {},
   "outputs": [
    {
     "data": {
      "text/plain": [
       "array([419359.28], dtype=float32)"
      ]
     },
     "execution_count": 49,
     "metadata": {},
     "output_type": "execute_result"
    }
   ],
   "source": [
    "model6.predict([[3.0, 2.0, 1900.0, 2400.0, 2.0, 1.0, 1.0, 5.0, 12.0, 2000.0, 2500.0, 1980.0, 47.5, -122.56, 2000.0, 2350.0]])"
   ]
  },
  {
   "cell_type": "code",
   "execution_count": 39,
   "id": "092fb14f-6eab-4a52-9312-c4e0d0cc6743",
   "metadata": {},
   "outputs": [
    {
     "data": {
      "text/plain": [
       "365000.0"
      ]
     },
     "execution_count": 39,
     "metadata": {},
     "output_type": "execute_result"
    }
   ],
   "source": [
    "y_test[0]"
   ]
  },
  {
   "cell_type": "code",
   "execution_count": null,
   "id": "74fd5583-a57a-4e2b-be58-fa353e98040f",
   "metadata": {},
   "outputs": [],
   "source": []
  }
 ],
 "metadata": {
  "kernelspec": {
   "display_name": "Python 3 (ipykernel)",
   "language": "python",
   "name": "python3"
  },
  "language_info": {
   "codemirror_mode": {
    "name": "ipython",
    "version": 3
   },
   "file_extension": ".py",
   "mimetype": "text/x-python",
   "name": "python",
   "nbconvert_exporter": "python",
   "pygments_lexer": "ipython3",
   "version": "3.11.7"
  }
 },
 "nbformat": 4,
 "nbformat_minor": 5
}
